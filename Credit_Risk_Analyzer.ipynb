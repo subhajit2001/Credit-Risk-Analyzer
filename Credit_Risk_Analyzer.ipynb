{
 "cells": [
  {
   "cell_type": "markdown",
   "metadata": {
    "id": "X6yF4X0R9wE-"
   },
   "source": [
    "### Importing Required Libraries"
   ]
  },
  {
   "cell_type": "code",
   "execution_count": 78,
   "metadata": {
    "executionInfo": {
     "elapsed": 424,
     "status": "ok",
     "timestamp": 1625729909527,
     "user": {
      "displayName": "Subhajit Saha",
      "photoUrl": "",
      "userId": "13711027277416068614"
     },
     "user_tz": -330
    },
    "id": "-igyWbIm02wA"
   },
   "outputs": [],
   "source": [
    "import pandas as pd\n",
    "import warnings\n",
    "warnings.filterwarnings('ignore')\n",
    "import matplotlib.pyplot as plt\n",
    "import sklearn\n",
    "import numpy as np\n",
    "import seaborn as ss\n",
    "ss.set_theme()\n",
    "from sklearn.metrics import precision_score,recall_score"
   ]
  },
  {
   "cell_type": "markdown",
   "metadata": {
    "id": "2t-RmhbT92gJ"
   },
   "source": [
    "### Importing the dataset"
   ]
  },
  {
   "cell_type": "code",
   "execution_count": 2,
   "metadata": {
    "colab": {
     "base_uri": "https://localhost:8080/",
     "height": 278
    },
    "executionInfo": {
     "elapsed": 1482,
     "status": "ok",
     "timestamp": 1625724844825,
     "user": {
      "displayName": "Subhajit Saha",
      "photoUrl": "",
      "userId": "13711027277416068614"
     },
     "user_tz": -330
    },
    "id": "bWzNuQXf1CC0",
    "outputId": "89de26b8-ffc6-4e15-ce2a-97d75d488f31"
   },
   "outputs": [
    {
     "data": {
      "text/html": [
       "<div>\n",
       "<style scoped>\n",
       "    .dataframe tbody tr th:only-of-type {\n",
       "        vertical-align: middle;\n",
       "    }\n",
       "\n",
       "    .dataframe tbody tr th {\n",
       "        vertical-align: top;\n",
       "    }\n",
       "\n",
       "    .dataframe thead th {\n",
       "        text-align: right;\n",
       "    }\n",
       "</style>\n",
       "<table border=\"1\" class=\"dataframe\">\n",
       "  <thead>\n",
       "    <tr style=\"text-align: right;\">\n",
       "      <th></th>\n",
       "      <th>age</th>\n",
       "      <th>gender</th>\n",
       "      <th>education</th>\n",
       "      <th>occupation</th>\n",
       "      <th>organization_type</th>\n",
       "      <th>seniority</th>\n",
       "      <th>annual_income</th>\n",
       "      <th>disposable_income</th>\n",
       "      <th>house_type</th>\n",
       "      <th>vehicle_type</th>\n",
       "      <th>marital_status</th>\n",
       "      <th>no_card</th>\n",
       "      <th>default</th>\n",
       "    </tr>\n",
       "  </thead>\n",
       "  <tbody>\n",
       "    <tr>\n",
       "      <th>0</th>\n",
       "      <td>19</td>\n",
       "      <td>Male</td>\n",
       "      <td>Graduate</td>\n",
       "      <td>Professional</td>\n",
       "      <td>None</td>\n",
       "      <td>None</td>\n",
       "      <td>186319</td>\n",
       "      <td>21625</td>\n",
       "      <td>Family</td>\n",
       "      <td>None</td>\n",
       "      <td>Married</td>\n",
       "      <td>0</td>\n",
       "      <td>1</td>\n",
       "    </tr>\n",
       "    <tr>\n",
       "      <th>1</th>\n",
       "      <td>18</td>\n",
       "      <td>Male</td>\n",
       "      <td>Under Graduate</td>\n",
       "      <td>Professional</td>\n",
       "      <td>None</td>\n",
       "      <td>None</td>\n",
       "      <td>277022</td>\n",
       "      <td>20442</td>\n",
       "      <td>Rented</td>\n",
       "      <td>None</td>\n",
       "      <td>Married</td>\n",
       "      <td>0</td>\n",
       "      <td>1</td>\n",
       "    </tr>\n",
       "    <tr>\n",
       "      <th>2</th>\n",
       "      <td>29</td>\n",
       "      <td>Male</td>\n",
       "      <td>Under Graduate</td>\n",
       "      <td>Salaried</td>\n",
       "      <td>None</td>\n",
       "      <td>Entry</td>\n",
       "      <td>348676</td>\n",
       "      <td>24404</td>\n",
       "      <td>Rented</td>\n",
       "      <td>None</td>\n",
       "      <td>Married</td>\n",
       "      <td>1</td>\n",
       "      <td>1</td>\n",
       "    </tr>\n",
       "    <tr>\n",
       "      <th>3</th>\n",
       "      <td>18</td>\n",
       "      <td>Male</td>\n",
       "      <td>Graduate</td>\n",
       "      <td>Student</td>\n",
       "      <td>None</td>\n",
       "      <td>None</td>\n",
       "      <td>165041</td>\n",
       "      <td>2533</td>\n",
       "      <td>Rented</td>\n",
       "      <td>None</td>\n",
       "      <td>Married</td>\n",
       "      <td>0</td>\n",
       "      <td>1</td>\n",
       "    </tr>\n",
       "    <tr>\n",
       "      <th>4</th>\n",
       "      <td>26</td>\n",
       "      <td>Male</td>\n",
       "      <td>Post Graduate</td>\n",
       "      <td>Salaried</td>\n",
       "      <td>None</td>\n",
       "      <td>Mid-level 1</td>\n",
       "      <td>348745</td>\n",
       "      <td>19321</td>\n",
       "      <td>Rented</td>\n",
       "      <td>None</td>\n",
       "      <td>Married</td>\n",
       "      <td>1</td>\n",
       "      <td>1</td>\n",
       "    </tr>\n",
       "  </tbody>\n",
       "</table>\n",
       "</div>"
      ],
      "text/plain": [
       "   age gender       education  ... marital_status no_card default\n",
       "0   19   Male        Graduate  ...        Married       0       1\n",
       "1   18   Male  Under Graduate  ...        Married       0       1\n",
       "2   29   Male  Under Graduate  ...        Married       1       1\n",
       "3   18   Male        Graduate  ...        Married       0       1\n",
       "4   26   Male   Post Graduate  ...        Married       1       1\n",
       "\n",
       "[5 rows x 13 columns]"
      ]
     },
     "execution_count": 2,
     "metadata": {
      "tags": []
     },
     "output_type": "execute_result"
    }
   ],
   "source": [
    "credit_df = pd.read_csv(\"https://raw.githubusercontent.com/subhajit2001/Credit_Risk_Analyzer/main/credit_data.csv\")\n",
    "credit_df.head()"
   ]
  },
  {
   "cell_type": "markdown",
   "metadata": {
    "id": "ndJz3-Pd9_iR"
   },
   "source": [
    "### Exploratory data analysis of the Dataset"
   ]
  },
  {
   "cell_type": "code",
   "execution_count": null,
   "metadata": {
    "colab": {
     "base_uri": "https://localhost:8080/"
    },
    "executionInfo": {
     "elapsed": 38,
     "status": "ok",
     "timestamp": 1625670824608,
     "user": {
      "displayName": "Subhajit Saha",
      "photoUrl": "",
      "userId": "13711027277416068614"
     },
     "user_tz": -330
    },
    "id": "eBMj3Wza6cBt",
    "outputId": "e3c311ca-3a35-4e86-9e46-417512df6cd4"
   },
   "outputs": [
    {
     "data": {
      "text/plain": [
       "(50636, 13)"
      ]
     },
     "execution_count": 3,
     "metadata": {
      "tags": []
     },
     "output_type": "execute_result"
    }
   ],
   "source": [
    "credit_df.shape"
   ]
  },
  {
   "cell_type": "code",
   "execution_count": null,
   "metadata": {
    "colab": {
     "base_uri": "https://localhost:8080/"
    },
    "executionInfo": {
     "elapsed": 36,
     "status": "ok",
     "timestamp": 1625670824610,
     "user": {
      "displayName": "Subhajit Saha",
      "photoUrl": "",
      "userId": "13711027277416068614"
     },
     "user_tz": -330
    },
    "id": "oUxoZge-6iZa",
    "outputId": "12477b1f-c87e-42e2-a403-3b5ebef842bb"
   },
   "outputs": [
    {
     "data": {
      "text/plain": [
       "Index(['age', 'gender', 'education', 'occupation', 'organization_type',\n",
       "       'seniority', 'annual_income', 'disposable_income', 'house_type',\n",
       "       'vehicle_type', 'marital_status', 'no_card', 'default'],\n",
       "      dtype='object')"
      ]
     },
     "execution_count": 4,
     "metadata": {
      "tags": []
     },
     "output_type": "execute_result"
    }
   ],
   "source": [
    "credit_df.columns"
   ]
  },
  {
   "cell_type": "code",
   "execution_count": null,
   "metadata": {
    "colab": {
     "base_uri": "https://localhost:8080/"
    },
    "executionInfo": {
     "elapsed": 35,
     "status": "ok",
     "timestamp": 1625670824612,
     "user": {
      "displayName": "Subhajit Saha",
      "photoUrl": "",
      "userId": "13711027277416068614"
     },
     "user_tz": -330
    },
    "id": "6nVvHedr6sGj",
    "outputId": "5e369001-c584-40ac-9bc1-ee6b4b396219"
   },
   "outputs": [
    {
     "name": "stdout",
     "output_type": "stream",
     "text": [
      "<class 'pandas.core.frame.DataFrame'>\n",
      "RangeIndex: 50636 entries, 0 to 50635\n",
      "Data columns (total 13 columns):\n",
      " #   Column             Non-Null Count  Dtype \n",
      "---  ------             --------------  ----- \n",
      " 0   age                50636 non-null  int64 \n",
      " 1   gender             50636 non-null  object\n",
      " 2   education          50636 non-null  object\n",
      " 3   occupation         50636 non-null  object\n",
      " 4   organization_type  50636 non-null  object\n",
      " 5   seniority          50636 non-null  object\n",
      " 6   annual_income      50636 non-null  int64 \n",
      " 7   disposable_income  50636 non-null  int64 \n",
      " 8   house_type         50636 non-null  object\n",
      " 9   vehicle_type       50636 non-null  object\n",
      " 10  marital_status     50636 non-null  object\n",
      " 11  no_card            50636 non-null  int64 \n",
      " 12  default            50636 non-null  int64 \n",
      "dtypes: int64(5), object(8)\n",
      "memory usage: 5.0+ MB\n"
     ]
    }
   ],
   "source": [
    "credit_df.info()"
   ]
  },
  {
   "cell_type": "code",
   "execution_count": null,
   "metadata": {
    "colab": {
     "base_uri": "https://localhost:8080/",
     "height": 300
    },
    "executionInfo": {
     "elapsed": 33,
     "status": "ok",
     "timestamp": 1625670824613,
     "user": {
      "displayName": "Subhajit Saha",
      "photoUrl": "",
      "userId": "13711027277416068614"
     },
     "user_tz": -330
    },
    "id": "5DIp51mv6vk8",
    "outputId": "532bcb00-d6c8-43f7-8676-3996181d9f6c"
   },
   "outputs": [
    {
     "data": {
      "text/html": [
       "<div>\n",
       "<style scoped>\n",
       "    .dataframe tbody tr th:only-of-type {\n",
       "        vertical-align: middle;\n",
       "    }\n",
       "\n",
       "    .dataframe tbody tr th {\n",
       "        vertical-align: top;\n",
       "    }\n",
       "\n",
       "    .dataframe thead th {\n",
       "        text-align: right;\n",
       "    }\n",
       "</style>\n",
       "<table border=\"1\" class=\"dataframe\">\n",
       "  <thead>\n",
       "    <tr style=\"text-align: right;\">\n",
       "      <th></th>\n",
       "      <th>age</th>\n",
       "      <th>annual_income</th>\n",
       "      <th>disposable_income</th>\n",
       "      <th>no_card</th>\n",
       "      <th>default</th>\n",
       "    </tr>\n",
       "  </thead>\n",
       "  <tbody>\n",
       "    <tr>\n",
       "      <th>count</th>\n",
       "      <td>50636.000000</td>\n",
       "      <td>50636.000000</td>\n",
       "      <td>50636.000000</td>\n",
       "      <td>50636.000000</td>\n",
       "      <td>50636.000000</td>\n",
       "    </tr>\n",
       "    <tr>\n",
       "      <th>mean</th>\n",
       "      <td>29.527411</td>\n",
       "      <td>277243.989889</td>\n",
       "      <td>18325.788569</td>\n",
       "      <td>0.509815</td>\n",
       "      <td>0.158425</td>\n",
       "    </tr>\n",
       "    <tr>\n",
       "      <th>std</th>\n",
       "      <td>8.816532</td>\n",
       "      <td>153838.973755</td>\n",
       "      <td>12677.864844</td>\n",
       "      <td>0.669883</td>\n",
       "      <td>0.365142</td>\n",
       "    </tr>\n",
       "    <tr>\n",
       "      <th>min</th>\n",
       "      <td>18.000000</td>\n",
       "      <td>50000.000000</td>\n",
       "      <td>1000.000000</td>\n",
       "      <td>0.000000</td>\n",
       "      <td>0.000000</td>\n",
       "    </tr>\n",
       "    <tr>\n",
       "      <th>25%</th>\n",
       "      <td>25.000000</td>\n",
       "      <td>154052.250000</td>\n",
       "      <td>8317.750000</td>\n",
       "      <td>0.000000</td>\n",
       "      <td>0.000000</td>\n",
       "    </tr>\n",
       "    <tr>\n",
       "      <th>50%</th>\n",
       "      <td>27.000000</td>\n",
       "      <td>258860.500000</td>\n",
       "      <td>15770.000000</td>\n",
       "      <td>0.000000</td>\n",
       "      <td>0.000000</td>\n",
       "    </tr>\n",
       "    <tr>\n",
       "      <th>75%</th>\n",
       "      <td>30.000000</td>\n",
       "      <td>385071.500000</td>\n",
       "      <td>24135.000000</td>\n",
       "      <td>1.000000</td>\n",
       "      <td>0.000000</td>\n",
       "    </tr>\n",
       "    <tr>\n",
       "      <th>max</th>\n",
       "      <td>64.000000</td>\n",
       "      <td>999844.000000</td>\n",
       "      <td>49999.000000</td>\n",
       "      <td>2.000000</td>\n",
       "      <td>1.000000</td>\n",
       "    </tr>\n",
       "  </tbody>\n",
       "</table>\n",
       "</div>"
      ],
      "text/plain": [
       "                age  annual_income  ...       no_card       default\n",
       "count  50636.000000   50636.000000  ...  50636.000000  50636.000000\n",
       "mean      29.527411  277243.989889  ...      0.509815      0.158425\n",
       "std        8.816532  153838.973755  ...      0.669883      0.365142\n",
       "min       18.000000   50000.000000  ...      0.000000      0.000000\n",
       "25%       25.000000  154052.250000  ...      0.000000      0.000000\n",
       "50%       27.000000  258860.500000  ...      0.000000      0.000000\n",
       "75%       30.000000  385071.500000  ...      1.000000      0.000000\n",
       "max       64.000000  999844.000000  ...      2.000000      1.000000\n",
       "\n",
       "[8 rows x 5 columns]"
      ]
     },
     "execution_count": 6,
     "metadata": {
      "tags": []
     },
     "output_type": "execute_result"
    }
   ],
   "source": [
    "credit_df.describe()"
   ]
  },
  {
   "cell_type": "markdown",
   "metadata": {
    "id": "RGaWDnjVI5Xn"
   },
   "source": [
    "### Value Counts of each category in the dataset"
   ]
  },
  {
   "cell_type": "code",
   "execution_count": null,
   "metadata": {
    "colab": {
     "base_uri": "https://localhost:8080/"
    },
    "executionInfo": {
     "elapsed": 425,
     "status": "ok",
     "timestamp": 1625676117875,
     "user": {
      "displayName": "Subhajit Saha",
      "photoUrl": "",
      "userId": "13711027277416068614"
     },
     "user_tz": -330
    },
    "id": "1jHFeBvH-iLV",
    "outputId": "4a9e03d7-877e-45d2-993b-8f2e7b67589e"
   },
   "outputs": [
    {
     "name": "stdout",
     "output_type": "stream",
     "text": [
      "Male      36187\n",
      "Female    14449\n",
      "Name: gender, dtype: int64\n",
      "\n",
      "\n",
      "Graduate          24320\n",
      "Post Graduate     14545\n",
      "Under Graduate     6189\n",
      "Other              5582\n",
      "Name: education, dtype: int64\n",
      "\n",
      "\n",
      "Salaried        29738\n",
      "Business        10072\n",
      "Professional     7942\n",
      "Student          2884\n",
      "Name: occupation, dtype: int64\n",
      "\n",
      "\n",
      "None      35884\n",
      "Tier 3     9165\n",
      "Tier 2     4226\n",
      "Tier 1     1361\n",
      "Name: organization_type, dtype: int64\n",
      "\n",
      "\n",
      "None           20898\n",
      "Mid-level 1    15565\n",
      "Junior          7934\n",
      "Entry           6136\n",
      "Mid-level 2       60\n",
      "Senior            43\n",
      "Name: seniority, dtype: int64\n",
      "\n",
      "\n",
      "Rented              30411\n",
      "Owned                9077\n",
      "Family               7506\n",
      "Company provided     3642\n",
      "Name: house_type, dtype: int64\n",
      "\n",
      "\n",
      "None            33301\n",
      "Two Wheeler     15101\n",
      "Four Wheeler     2234\n",
      "Name: vehicle_type, dtype: int64\n",
      "\n",
      "\n",
      "Married    29539\n",
      "Single     18576\n",
      "Other       2521\n",
      "Name: marital_status, dtype: int64\n",
      "\n",
      "\n",
      "0    29855\n",
      "1    15747\n",
      "2     5034\n",
      "Name: no_card, dtype: int64\n",
      "\n",
      "\n",
      "0    42614\n",
      "1     8022\n",
      "Name: default, dtype: int64\n",
      "\n",
      "\n"
     ]
    }
   ],
   "source": [
    "arr = ['gender', 'education', 'occupation', 'organization_type',\n",
    "       'seniority', 'house_type', 'vehicle_type', 'marital_status', 'no_card','default']\n",
    "for x in arr:\n",
    "  print(credit_df[x].value_counts())\n",
    "  print(\"\\n\")  "
   ]
  },
  {
   "cell_type": "markdown",
   "metadata": {
    "id": "XZg63wYTHwQE"
   },
   "source": [
    "### Data Visualizations"
   ]
  },
  {
   "cell_type": "markdown",
   "metadata": {
    "id": "J5cjiCgwvdy_"
   },
   "source": [
    "#### Frequency distribution of each categorical attribute"
   ]
  },
  {
   "cell_type": "code",
   "execution_count": null,
   "metadata": {
    "colab": {
     "base_uri": "https://localhost:8080/",
     "height": 1000
    },
    "executionInfo": {
     "elapsed": 3134,
     "status": "ok",
     "timestamp": 1625677301121,
     "user": {
      "displayName": "Subhajit Saha",
      "photoUrl": "",
      "userId": "13711027277416068614"
     },
     "user_tz": -330
    },
    "id": "m2zOE7Li_n62",
    "outputId": "3d1e7405-0e7b-42ae-bab1-7cbfad7e1919"
   },
   "outputs": [
    {
     "name": "stdout",
     "output_type": "stream",
     "text": [
      "        default\n",
      "gender         \n",
      "Female    14449\n",
      "Male      36187\n"
     ]
    },
    {
     "data": {
      "image/png": "[encoded data removed]",
      "text/plain": [
       "<Figure size 1080x576 with 1 Axes>"
      ]
     },
     "metadata": {
      "tags": []
     },
     "output_type": "display_data"
    },
    {
     "name": "stdout",
     "output_type": "stream",
     "text": [
      "                default\n",
      "education              \n",
      "Graduate          24320\n",
      "Other              5582\n",
      "Post Graduate     14545\n",
      "Under Graduate     6189\n"
     ]
    },
    {
     "data": {
      "image/png": "[encoded data removed]",
      "text/plain": [
       "<Figure size 1080x576 with 1 Axes>"
      ]
     },
     "metadata": {
      "tags": []
     },
     "output_type": "display_data"
    },
    {
     "name": "stdout",
     "output_type": "stream",
     "text": [
      "              default\n",
      "occupation           \n",
      "Business        10072\n",
      "Professional     7942\n",
      "Salaried        29738\n",
      "Student          2884\n"
     ]
    },
    {
     "data": {
      "image/png": "[encoded data removed]",
      "text/plain": [
       "<Figure size 1080x576 with 1 Axes>"
      ]
     },
     "metadata": {
      "tags": []
     },
     "output_type": "display_data"
    },
    {
     "name": "stdout",
     "output_type": "stream",
     "text": [
      "                   default\n",
      "organization_type         \n",
      "None                 35884\n",
      "Tier 1                1361\n",
      "Tier 2                4226\n",
      "Tier 3                9165\n"
     ]
    },
    {
     "data": {
      "image/png": "[encoded data removed]",
      "text/plain": [
       "<Figure size 1080x576 with 1 Axes>"
      ]
     },
     "metadata": {
      "tags": []
     },
     "output_type": "display_data"
    },
    {
     "name": "stdout",
     "output_type": "stream",
     "text": [
      "             default\n",
      "seniority           \n",
      "Entry           6136\n",
      "Junior          7934\n",
      "Mid-level 1    15565\n",
      "Mid-level 2       60\n",
      "None           20898\n",
      "Senior            43\n"
     ]
    },
    {
     "data": {
      "image/png": "[encoded data removed]",
      "text/plain": [
       "<Figure size 1080x576 with 1 Axes>"
      ]
     },
     "metadata": {
      "tags": []
     },
     "output_type": "display_data"
    },
    {
     "name": "stdout",
     "output_type": "stream",
     "text": [
      "                  default\n",
      "house_type               \n",
      "Company provided     3642\n",
      "Family               7506\n",
      "Owned                9077\n",
      "Rented              30411\n"
     ]
    },
    {
     "data": {
      "image/png": "[encoded data removed]",
      "text/plain": [
       "<Figure size 1080x576 with 1 Axes>"
      ]
     },
     "metadata": {
      "tags": []
     },
     "output_type": "display_data"
    },
    {
     "name": "stdout",
     "output_type": "stream",
     "text": [
      "              default\n",
      "vehicle_type         \n",
      "Four Wheeler     2234\n",
      "None            33301\n",
      "Two Wheeler     15101\n"
     ]
    },
    {
     "data": {
      "image/png": "[encoded data removed]",
      "text/plain": [
       "<Figure size 1080x576 with 1 Axes>"
      ]
     },
     "metadata": {
      "tags": []
     },
     "output_type": "display_data"
    },
    {
     "name": "stdout",
     "output_type": "stream",
     "text": [
      "                default\n",
      "marital_status         \n",
      "Married           29539\n",
      "Other              2521\n",
      "Single            18576\n"
     ]
    },
    {
     "data": {
      "image/png": "[encoded data removed]",
      "text/plain": [
       "<Figure size 1080x576 with 1 Axes>"
      ]
     },
     "metadata": {
      "tags": []
     },
     "output_type": "display_data"
    },
    {
     "name": "stdout",
     "output_type": "stream",
     "text": [
      "         default\n",
      "no_card         \n",
      "0          29855\n",
      "1          15747\n",
      "2           5034\n"
     ]
    },
    {
     "data": {
      "image/png": "[encoded data removed]",
      "text/plain": [
       "<Figure size 1080x576 with 1 Axes>"
      ]
     },
     "metadata": {
      "tags": []
     },
     "output_type": "display_data"
    }
   ],
   "source": [
    "arr = ['gender', 'education', 'occupation', 'organization_type',\n",
    "       'seniority', 'house_type', 'vehicle_type', 'marital_status', 'no_card']\n",
    "for x in arr:\n",
    "  grouped = credit_df[['default',x]].groupby(x).count()\n",
    "  print(grouped)\n",
    "  grouped.plot(kind=\"bar\",figsize=(15,8))\n",
    "  plt.show()"
   ]
  },
  {
   "cell_type": "code",
   "execution_count": null,
   "metadata": {
    "colab": {
     "base_uri": "https://localhost:8080/",
     "height": 281
    },
    "executionInfo": {
     "elapsed": 685,
     "status": "ok",
     "timestamp": 1625677027298,
     "user": {
      "displayName": "Subhajit Saha",
      "photoUrl": "",
      "userId": "13711027277416068614"
     },
     "user_tz": -330
    },
    "id": "LBejy4yH4Yxy",
    "outputId": "086f3741-cabd-41bb-af62-11289e74b306"
   },
   "outputs": [
    {
     "data": {
      "image/png": "[encoded data removed]",
      "text/plain": [
       "<Figure size 432x288 with 1 Axes>"
      ]
     },
     "metadata": {
      "tags": []
     },
     "output_type": "display_data"
    }
   ],
   "source": [
    "bins= [0,200000,400000,600000,800000,1000000]\n",
    "plt.hist(credit_df['annual_income'].values, bins=bins, edgecolor=\"k\")\n",
    "plt.xticks(bins)\n",
    "\n",
    "plt.show()"
   ]
  },
  {
   "cell_type": "code",
   "execution_count": null,
   "metadata": {
    "colab": {
     "base_uri": "https://localhost:8080/",
     "height": 268
    },
    "executionInfo": {
     "elapsed": 889,
     "status": "ok",
     "timestamp": 1625677213310,
     "user": {
      "displayName": "Subhajit Saha",
      "photoUrl": "",
      "userId": "13711027277416068614"
     },
     "user_tz": -330
    },
    "id": "23X2amAx43AM",
    "outputId": "82899082-2871-4172-d74a-40d0ff34a388"
   },
   "outputs": [
    {
     "data": {
      "image/png": "[encoded data removed]",
      "text/plain": [
       "<Figure size 432x288 with 1 Axes>"
      ]
     },
     "metadata": {
      "tags": []
     },
     "output_type": "display_data"
    }
   ],
   "source": [
    "bins= [0,10000,20000,30000,40000,50000,60000]\n",
    "plt.hist(credit_df['disposable_income'].values, bins=bins, edgecolor=\"k\")\n",
    "plt.xticks(bins)\n",
    "\n",
    "plt.show()"
   ]
  },
  {
   "cell_type": "markdown",
   "metadata": {
    "id": "kDa1wuHLvpSy"
   },
   "source": [
    "#### Grouping the defaulter's column on education and occupation"
   ]
  },
  {
   "cell_type": "code",
   "execution_count": 35,
   "metadata": {
    "executionInfo": {
     "elapsed": 460,
     "status": "ok",
     "timestamp": 1625728056902,
     "user": {
      "displayName": "Subhajit Saha",
      "photoUrl": "",
      "userId": "13711027277416068614"
     },
     "user_tz": -330
    },
    "id": "k3aJeU4FvnSm"
   },
   "outputs": [],
   "source": [
    "credit_df_default = credit_df[['education','occupation','default','annual_income','disposable_income'\n",
    "]].groupby(['education','occupation']).agg({'default':['sum','count'],'annual_income':'mean','disposable_income':'mean'})"
   ]
  },
  {
   "cell_type": "code",
   "execution_count": 42,
   "metadata": {
    "executionInfo": {
     "elapsed": 404,
     "status": "ok",
     "timestamp": 1625728168929,
     "user": {
      "displayName": "Subhajit Saha",
      "photoUrl": "",
      "userId": "13711027277416068614"
     },
     "user_tz": -330
    },
    "id": "9dYM_CaAwxpL"
   },
   "outputs": [],
   "source": [
    "credit_df_default['percentage'] = (credit_df_default['default']['sum']/credit_df_default['default']['count'] *100)"
   ]
  },
  {
   "cell_type": "code",
   "execution_count": 43,
   "metadata": {
    "colab": {
     "base_uri": "https://localhost:8080/",
     "height": 613
    },
    "executionInfo": {
     "elapsed": 414,
     "status": "ok",
     "timestamp": 1625728174067,
     "user": {
      "displayName": "Subhajit Saha",
      "photoUrl": "",
      "userId": "13711027277416068614"
     },
     "user_tz": -330
    },
    "id": "xpiokAbx7uwa",
    "outputId": "973f633e-046b-414a-9367-3af861a982e0"
   },
   "outputs": [
    {
     "data": {
      "text/html": [
       "<div>\n",
       "<style scoped>\n",
       "    .dataframe tbody tr th:only-of-type {\n",
       "        vertical-align: middle;\n",
       "    }\n",
       "\n",
       "    .dataframe tbody tr th {\n",
       "        vertical-align: top;\n",
       "    }\n",
       "\n",
       "    .dataframe thead tr th {\n",
       "        text-align: left;\n",
       "    }\n",
       "\n",
       "    .dataframe thead tr:last-of-type th {\n",
       "        text-align: right;\n",
       "    }\n",
       "</style>\n",
       "<table border=\"1\" class=\"dataframe\">\n",
       "  <thead>\n",
       "    <tr>\n",
       "      <th></th>\n",
       "      <th></th>\n",
       "      <th colspan=\"2\" halign=\"left\">default</th>\n",
       "      <th>annual_income</th>\n",
       "      <th>disposable_income</th>\n",
       "      <th>percentage</th>\n",
       "    </tr>\n",
       "    <tr>\n",
       "      <th></th>\n",
       "      <th></th>\n",
       "      <th>sum</th>\n",
       "      <th>count</th>\n",
       "      <th>mean</th>\n",
       "      <th>mean</th>\n",
       "      <th></th>\n",
       "    </tr>\n",
       "    <tr>\n",
       "      <th>education</th>\n",
       "      <th>occupation</th>\n",
       "      <th></th>\n",
       "      <th></th>\n",
       "      <th></th>\n",
       "      <th></th>\n",
       "      <th></th>\n",
       "    </tr>\n",
       "  </thead>\n",
       "  <tbody>\n",
       "    <tr>\n",
       "      <th rowspan=\"4\" valign=\"top\">Graduate</th>\n",
       "      <th>Business</th>\n",
       "      <td>546</td>\n",
       "      <td>4810</td>\n",
       "      <td>277582.650728</td>\n",
       "      <td>18257.921830</td>\n",
       "      <td>11.351351</td>\n",
       "    </tr>\n",
       "    <tr>\n",
       "      <th>Professional</th>\n",
       "      <td>567</td>\n",
       "      <td>3821</td>\n",
       "      <td>276766.386286</td>\n",
       "      <td>18480.151269</td>\n",
       "      <td>14.839047</td>\n",
       "    </tr>\n",
       "    <tr>\n",
       "      <th>Salaried</th>\n",
       "      <td>1494</td>\n",
       "      <td>14382</td>\n",
       "      <td>279027.750869</td>\n",
       "      <td>18251.605131</td>\n",
       "      <td>10.387985</td>\n",
       "    </tr>\n",
       "    <tr>\n",
       "      <th>Student</th>\n",
       "      <td>222</td>\n",
       "      <td>1307</td>\n",
       "      <td>273269.730681</td>\n",
       "      <td>17881.790360</td>\n",
       "      <td>16.985463</td>\n",
       "    </tr>\n",
       "    <tr>\n",
       "      <th rowspan=\"4\" valign=\"top\">Other</th>\n",
       "      <th>Business</th>\n",
       "      <td>284</td>\n",
       "      <td>1121</td>\n",
       "      <td>281445.502230</td>\n",
       "      <td>18119.809991</td>\n",
       "      <td>25.334523</td>\n",
       "    </tr>\n",
       "    <tr>\n",
       "      <th>Professional</th>\n",
       "      <td>252</td>\n",
       "      <td>881</td>\n",
       "      <td>271564.811578</td>\n",
       "      <td>18463.959137</td>\n",
       "      <td>28.603859</td>\n",
       "    </tr>\n",
       "    <tr>\n",
       "      <th>Salaried</th>\n",
       "      <td>714</td>\n",
       "      <td>3245</td>\n",
       "      <td>279498.037904</td>\n",
       "      <td>18386.464099</td>\n",
       "      <td>22.003082</td>\n",
       "    </tr>\n",
       "    <tr>\n",
       "      <th>Student</th>\n",
       "      <td>129</td>\n",
       "      <td>335</td>\n",
       "      <td>257303.340299</td>\n",
       "      <td>19606.985075</td>\n",
       "      <td>38.507463</td>\n",
       "    </tr>\n",
       "    <tr>\n",
       "      <th rowspan=\"4\" valign=\"top\">Post Graduate</th>\n",
       "      <th>Business</th>\n",
       "      <td>372</td>\n",
       "      <td>2894</td>\n",
       "      <td>279106.607809</td>\n",
       "      <td>18387.390117</td>\n",
       "      <td>12.854181</td>\n",
       "    </tr>\n",
       "    <tr>\n",
       "      <th>Professional</th>\n",
       "      <td>325</td>\n",
       "      <td>2203</td>\n",
       "      <td>271623.466182</td>\n",
       "      <td>18006.416251</td>\n",
       "      <td>14.752610</td>\n",
       "    </tr>\n",
       "    <tr>\n",
       "      <th>Salaried</th>\n",
       "      <td>993</td>\n",
       "      <td>8628</td>\n",
       "      <td>277415.492003</td>\n",
       "      <td>18596.250116</td>\n",
       "      <td>11.509040</td>\n",
       "    </tr>\n",
       "    <tr>\n",
       "      <th>Student</th>\n",
       "      <td>139</td>\n",
       "      <td>820</td>\n",
       "      <td>274994.450000</td>\n",
       "      <td>17767.596341</td>\n",
       "      <td>16.951220</td>\n",
       "    </tr>\n",
       "    <tr>\n",
       "      <th rowspan=\"4\" valign=\"top\">Under Graduate</th>\n",
       "      <th>Business</th>\n",
       "      <td>384</td>\n",
       "      <td>1247</td>\n",
       "      <td>277272.793103</td>\n",
       "      <td>18357.110666</td>\n",
       "      <td>30.793905</td>\n",
       "    </tr>\n",
       "    <tr>\n",
       "      <th>Professional</th>\n",
       "      <td>373</td>\n",
       "      <td>1037</td>\n",
       "      <td>274260.027965</td>\n",
       "      <td>18067.013500</td>\n",
       "      <td>35.969142</td>\n",
       "    </tr>\n",
       "    <tr>\n",
       "      <th>Salaried</th>\n",
       "      <td>1032</td>\n",
       "      <td>3483</td>\n",
       "      <td>274665.685903</td>\n",
       "      <td>18224.656905</td>\n",
       "      <td>29.629630</td>\n",
       "    </tr>\n",
       "    <tr>\n",
       "      <th>Student</th>\n",
       "      <td>196</td>\n",
       "      <td>422</td>\n",
       "      <td>274378.225118</td>\n",
       "      <td>18557.831754</td>\n",
       "      <td>46.445498</td>\n",
       "    </tr>\n",
       "  </tbody>\n",
       "</table>\n",
       "</div>"
      ],
      "text/plain": [
       "                            default         ... disposable_income percentage\n",
       "                                sum  count  ...              mean           \n",
       "education      occupation                   ...                             \n",
       "Graduate       Business         546   4810  ...      18257.921830  11.351351\n",
       "               Professional     567   3821  ...      18480.151269  14.839047\n",
       "               Salaried        1494  14382  ...      18251.605131  10.387985\n",
       "               Student          222   1307  ...      17881.790360  16.985463\n",
       "Other          Business         284   1121  ...      18119.809991  25.334523\n",
       "               Professional     252    881  ...      18463.959137  28.603859\n",
       "               Salaried         714   3245  ...      18386.464099  22.003082\n",
       "               Student          129    335  ...      19606.985075  38.507463\n",
       "Post Graduate  Business         372   2894  ...      18387.390117  12.854181\n",
       "               Professional     325   2203  ...      18006.416251  14.752610\n",
       "               Salaried         993   8628  ...      18596.250116  11.509040\n",
       "               Student          139    820  ...      17767.596341  16.951220\n",
       "Under Graduate Business         384   1247  ...      18357.110666  30.793905\n",
       "               Professional     373   1037  ...      18067.013500  35.969142\n",
       "               Salaried        1032   3483  ...      18224.656905  29.629630\n",
       "               Student          196    422  ...      18557.831754  46.445498\n",
       "\n",
       "[16 rows x 5 columns]"
      ]
     },
     "execution_count": 43,
     "metadata": {
      "tags": []
     },
     "output_type": "execute_result"
    }
   ],
   "source": [
    "credit_df_default"
   ]
  },
  {
   "cell_type": "code",
   "execution_count": 44,
   "metadata": {
    "colab": {
     "base_uri": "https://localhost:8080/",
     "height": 681
    },
    "executionInfo": {
     "elapsed": 1298,
     "status": "ok",
     "timestamp": 1625728226626,
     "user": {
      "displayName": "Subhajit Saha",
      "photoUrl": "",
      "userId": "13711027277416068614"
     },
     "user_tz": -330
    },
    "id": "JQyFxkPExrZp",
    "outputId": "3e5c15d5-d5e7-497a-b918-e5f4a6a999ac"
   },
   "outputs": [
    {
     "data": {
      "text/plain": [
       "<matplotlib.axes._subplots.AxesSubplot at 0x7f780cc55a90>"
      ]
     },
     "execution_count": 44,
     "metadata": {
      "tags": []
     },
     "output_type": "execute_result"
    },
    {
     "data": {
      "image/png": "[encoded data removed]",
      "text/plain": [
       "<Figure size 1080x576 with 1 Axes>"
      ]
     },
     "metadata": {
      "needs_background": "light",
      "tags": []
     },
     "output_type": "display_data"
    }
   ],
   "source": [
    "credit_df_default['percentage'].plot(kind='bar',figsize=(15,8))"
   ]
  },
  {
   "cell_type": "code",
   "execution_count": 21,
   "metadata": {
    "colab": {
     "base_uri": "https://localhost:8080/",
     "height": 681
    },
    "executionInfo": {
     "elapsed": 1098,
     "status": "ok",
     "timestamp": 1625725671852,
     "user": {
      "displayName": "Subhajit Saha",
      "photoUrl": "",
      "userId": "13711027277416068614"
     },
     "user_tz": -330
    },
    "id": "2av7Z374zB3q",
    "outputId": "74724585-70bb-4dda-fc3a-f83f0a158ff5"
   },
   "outputs": [
    {
     "data": {
      "text/plain": [
       "<matplotlib.axes._subplots.AxesSubplot at 0x7f780cc5de50>"
      ]
     },
     "execution_count": 21,
     "metadata": {
      "tags": []
     },
     "output_type": "execute_result"
    },
    {
     "data": {
      "image/png": "[encoded data removed]",
      "text/plain": [
       "<Figure size 1080x576 with 1 Axes>"
      ]
     },
     "metadata": {
      "needs_background": "light",
      "tags": []
     },
     "output_type": "display_data"
    }
   ],
   "source": [
    "credit_df_default[['annual_income','disposable_income']].plot(kind='bar',figsize=(15,8))"
   ]
  },
  {
   "cell_type": "markdown",
   "metadata": {
    "id": "vcWZRbCa1Vw_"
   },
   "source": [
    "### Attribute wise visulization among defaulters"
   ]
  },
  {
   "cell_type": "code",
   "execution_count": null,
   "metadata": {
    "colab": {
     "base_uri": "https://localhost:8080/",
     "height": 278
    },
    "executionInfo": {
     "elapsed": 10,
     "status": "ok",
     "timestamp": 1625676056046,
     "user": {
      "displayName": "Subhajit Saha",
      "photoUrl": "",
      "userId": "13711027277416068614"
     },
     "user_tz": -330
    },
    "id": "hsrDe2xS1soD",
    "outputId": "b97714b2-2a46-44f5-9b57-996cbee0c366"
   },
   "outputs": [
    {
     "data": {
      "text/html": [
       "<div>\n",
       "<style scoped>\n",
       "    .dataframe tbody tr th:only-of-type {\n",
       "        vertical-align: middle;\n",
       "    }\n",
       "\n",
       "    .dataframe tbody tr th {\n",
       "        vertical-align: top;\n",
       "    }\n",
       "\n",
       "    .dataframe thead th {\n",
       "        text-align: right;\n",
       "    }\n",
       "</style>\n",
       "<table border=\"1\" class=\"dataframe\">\n",
       "  <thead>\n",
       "    <tr style=\"text-align: right;\">\n",
       "      <th></th>\n",
       "      <th>age</th>\n",
       "      <th>gender</th>\n",
       "      <th>education</th>\n",
       "      <th>occupation</th>\n",
       "      <th>organization_type</th>\n",
       "      <th>seniority</th>\n",
       "      <th>annual_income</th>\n",
       "      <th>disposable_income</th>\n",
       "      <th>house_type</th>\n",
       "      <th>vehicle_type</th>\n",
       "      <th>marital_status</th>\n",
       "      <th>no_card</th>\n",
       "      <th>default</th>\n",
       "    </tr>\n",
       "  </thead>\n",
       "  <tbody>\n",
       "    <tr>\n",
       "      <th>0</th>\n",
       "      <td>19</td>\n",
       "      <td>Male</td>\n",
       "      <td>Graduate</td>\n",
       "      <td>Professional</td>\n",
       "      <td>None</td>\n",
       "      <td>None</td>\n",
       "      <td>186319</td>\n",
       "      <td>21625</td>\n",
       "      <td>Family</td>\n",
       "      <td>None</td>\n",
       "      <td>Married</td>\n",
       "      <td>0</td>\n",
       "      <td>1</td>\n",
       "    </tr>\n",
       "    <tr>\n",
       "      <th>1</th>\n",
       "      <td>18</td>\n",
       "      <td>Male</td>\n",
       "      <td>Under Graduate</td>\n",
       "      <td>Professional</td>\n",
       "      <td>None</td>\n",
       "      <td>None</td>\n",
       "      <td>277022</td>\n",
       "      <td>20442</td>\n",
       "      <td>Rented</td>\n",
       "      <td>None</td>\n",
       "      <td>Married</td>\n",
       "      <td>0</td>\n",
       "      <td>1</td>\n",
       "    </tr>\n",
       "    <tr>\n",
       "      <th>2</th>\n",
       "      <td>29</td>\n",
       "      <td>Male</td>\n",
       "      <td>Under Graduate</td>\n",
       "      <td>Salaried</td>\n",
       "      <td>None</td>\n",
       "      <td>Entry</td>\n",
       "      <td>348676</td>\n",
       "      <td>24404</td>\n",
       "      <td>Rented</td>\n",
       "      <td>None</td>\n",
       "      <td>Married</td>\n",
       "      <td>1</td>\n",
       "      <td>1</td>\n",
       "    </tr>\n",
       "    <tr>\n",
       "      <th>3</th>\n",
       "      <td>18</td>\n",
       "      <td>Male</td>\n",
       "      <td>Graduate</td>\n",
       "      <td>Student</td>\n",
       "      <td>None</td>\n",
       "      <td>None</td>\n",
       "      <td>165041</td>\n",
       "      <td>2533</td>\n",
       "      <td>Rented</td>\n",
       "      <td>None</td>\n",
       "      <td>Married</td>\n",
       "      <td>0</td>\n",
       "      <td>1</td>\n",
       "    </tr>\n",
       "    <tr>\n",
       "      <th>4</th>\n",
       "      <td>26</td>\n",
       "      <td>Male</td>\n",
       "      <td>Post Graduate</td>\n",
       "      <td>Salaried</td>\n",
       "      <td>None</td>\n",
       "      <td>Mid-level 1</td>\n",
       "      <td>348745</td>\n",
       "      <td>19321</td>\n",
       "      <td>Rented</td>\n",
       "      <td>None</td>\n",
       "      <td>Married</td>\n",
       "      <td>1</td>\n",
       "      <td>1</td>\n",
       "    </tr>\n",
       "  </tbody>\n",
       "</table>\n",
       "</div>"
      ],
      "text/plain": [
       "   age gender       education  ... marital_status no_card default\n",
       "0   19   Male        Graduate  ...        Married       0       1\n",
       "1   18   Male  Under Graduate  ...        Married       0       1\n",
       "2   29   Male  Under Graduate  ...        Married       1       1\n",
       "3   18   Male        Graduate  ...        Married       0       1\n",
       "4   26   Male   Post Graduate  ...        Married       1       1\n",
       "\n",
       "[5 rows x 13 columns]"
      ]
     },
     "execution_count": 11,
     "metadata": {
      "tags": []
     },
     "output_type": "execute_result"
    }
   ],
   "source": [
    "credit_df_defaulter = credit_df[credit_df['default']==1]\n",
    "credit_df_defaulter.head()"
   ]
  },
  {
   "cell_type": "code",
   "execution_count": null,
   "metadata": {
    "colab": {
     "base_uri": "https://localhost:8080/",
     "height": 6549
    },
    "executionInfo": {
     "elapsed": 3900,
     "status": "ok",
     "timestamp": 1625676081165,
     "user": {
      "displayName": "Subhajit Saha",
      "photoUrl": "",
      "userId": "13711027277416068614"
     },
     "user_tz": -330
    },
    "id": "crixpVkw1lf4",
    "outputId": "c0c33811-a733-42dd-e9ec-67b52cbc5d5f"
   },
   "outputs": [
    {
     "name": "stdout",
     "output_type": "stream",
     "text": [
      "        default\n",
      "gender         \n",
      "Female     1707\n",
      "Male       6315\n"
     ]
    },
    {
     "data": {
      "image/png": "[encoded data removed]",
      "text/plain": [
       "<Figure size 1440x720 with 1 Axes>"
      ]
     },
     "metadata": {
      "tags": []
     },
     "output_type": "display_data"
    },
    {
     "name": "stdout",
     "output_type": "stream",
     "text": [
      "                default\n",
      "education              \n",
      "Graduate           2829\n",
      "Other              1379\n",
      "Post Graduate      1829\n",
      "Under Graduate     1985\n"
     ]
    },
    {
     "data": {
      "image/png": "[encoded data removed]",
      "text/plain": [
       "<Figure size 1440x720 with 1 Axes>"
      ]
     },
     "metadata": {
      "tags": []
     },
     "output_type": "display_data"
    },
    {
     "name": "stdout",
     "output_type": "stream",
     "text": [
      "              default\n",
      "occupation           \n",
      "Business         1586\n",
      "Professional     1517\n",
      "Salaried         4233\n",
      "Student           686\n"
     ]
    },
    {
     "data": {
      "image/png": "[encoded data removed]",
      "text/plain": [
       "<Figure size 1440x720 with 1 Axes>"
      ]
     },
     "metadata": {
      "tags": []
     },
     "output_type": "display_data"
    },
    {
     "name": "stdout",
     "output_type": "stream",
     "text": [
      "                   default\n",
      "organization_type         \n",
      "None                  6031\n",
      "Tier 1                  81\n",
      "Tier 2                 370\n",
      "Tier 3                1540\n"
     ]
    },
    {
     "data": {
      "image/png": "[encoded data removed]",
      "text/plain": [
       "<Figure size 1440x720 with 1 Axes>"
      ]
     },
     "metadata": {
      "tags": []
     },
     "output_type": "display_data"
    },
    {
     "name": "stdout",
     "output_type": "stream",
     "text": [
      "             default\n",
      "seniority           \n",
      "Entry           1026\n",
      "Junior          1609\n",
      "Mid-level 1     1594\n",
      "Mid-level 2        2\n",
      "None            3789\n",
      "Senior             2\n"
     ]
    },
    {
     "data": {
      "image/png": "[encoded data removed]",
      "text/plain": [
       "<Figure size 1440x720 with 1 Axes>"
      ]
     },
     "metadata": {
      "tags": []
     },
     "output_type": "display_data"
    },
    {
     "name": "stdout",
     "output_type": "stream",
     "text": [
      "                  default\n",
      "house_type               \n",
      "Company provided      216\n",
      "Family               2517\n",
      "Owned                 473\n",
      "Rented               4816\n"
     ]
    },
    {
     "data": {
      "image/png": "[encoded data removed]",
      "text/plain": [
       "<Figure size 1440x720 with 1 Axes>"
      ]
     },
     "metadata": {
      "tags": []
     },
     "output_type": "display_data"
    },
    {
     "name": "stdout",
     "output_type": "stream",
     "text": [
      "              default\n",
      "vehicle_type         \n",
      "Four Wheeler      101\n",
      "None             5863\n",
      "Two Wheeler      2058\n"
     ]
    },
    {
     "data": {
      "image/png": "[encoded data removed]",
      "text/plain": [
       "<Figure size 1440x720 with 1 Axes>"
      ]
     },
     "metadata": {
      "tags": []
     },
     "output_type": "display_data"
    },
    {
     "name": "stdout",
     "output_type": "stream",
     "text": [
      "                default\n",
      "marital_status         \n",
      "Married            3898\n",
      "Other               438\n",
      "Single             3686\n"
     ]
    },
    {
     "data": {
      "image/png": "[encoded data removed]",
      "text/plain": [
       "<Figure size 1440x720 with 1 Axes>"
      ]
     },
     "metadata": {
      "tags": []
     },
     "output_type": "display_data"
    },
    {
     "name": "stdout",
     "output_type": "stream",
     "text": [
      "         default\n",
      "no_card         \n",
      "0           4222\n",
      "1           2988\n",
      "2            812\n"
     ]
    },
    {
     "data": {
      "image/png": "[encoded data removed]",
      "text/plain": [
       "<Figure size 1440x720 with 1 Axes>"
      ]
     },
     "metadata": {
      "tags": []
     },
     "output_type": "display_data"
    }
   ],
   "source": [
    "arr = ['gender', 'education', 'occupation', 'organization_type',\n",
    "       'seniority', 'house_type', 'vehicle_type', 'marital_status', 'no_card']\n",
    "for x in arr:\n",
    "  grouped = credit_df_defaulter[['default',x]].groupby(x).count()\n",
    "  print(grouped)\n",
    "  grouped.plot(kind=\"bar\",figsize=(20,10))\n",
    "  plt.show()"
   ]
  },
  {
   "cell_type": "markdown",
   "metadata": {
    "id": "FyBYG5QyLT3M"
   },
   "source": [
    "### Checking the null values in the dataset"
   ]
  },
  {
   "cell_type": "code",
   "execution_count": null,
   "metadata": {
    "colab": {
     "base_uri": "https://localhost:8080/",
     "height": 69
    },
    "executionInfo": {
     "elapsed": 12,
     "status": "ok",
     "timestamp": 1625670825844,
     "user": {
      "displayName": "Subhajit Saha",
      "photoUrl": "",
      "userId": "13711027277416068614"
     },
     "user_tz": -330
    },
    "id": "_FVJSImhLZnb",
    "outputId": "32fefe95-7008-4ca1-f37c-9a358c9fd694"
   },
   "outputs": [
    {
     "data": {
      "text/html": [
       "<div>\n",
       "<style scoped>\n",
       "    .dataframe tbody tr th:only-of-type {\n",
       "        vertical-align: middle;\n",
       "    }\n",
       "\n",
       "    .dataframe tbody tr th {\n",
       "        vertical-align: top;\n",
       "    }\n",
       "\n",
       "    .dataframe thead th {\n",
       "        text-align: right;\n",
       "    }\n",
       "</style>\n",
       "<table border=\"1\" class=\"dataframe\">\n",
       "  <thead>\n",
       "    <tr style=\"text-align: right;\">\n",
       "      <th></th>\n",
       "      <th>age</th>\n",
       "      <th>gender</th>\n",
       "      <th>education</th>\n",
       "      <th>occupation</th>\n",
       "      <th>organization_type</th>\n",
       "      <th>seniority</th>\n",
       "      <th>annual_income</th>\n",
       "      <th>disposable_income</th>\n",
       "      <th>house_type</th>\n",
       "      <th>vehicle_type</th>\n",
       "      <th>marital_status</th>\n",
       "      <th>no_card</th>\n",
       "      <th>default</th>\n",
       "    </tr>\n",
       "  </thead>\n",
       "  <tbody>\n",
       "  </tbody>\n",
       "</table>\n",
       "</div>"
      ],
      "text/plain": [
       "Empty DataFrame\n",
       "Columns: [age, gender, education, occupation, organization_type, seniority, annual_income, disposable_income, house_type, vehicle_type, marital_status, no_card, default]\n",
       "Index: []"
      ]
     },
     "execution_count": 9,
     "metadata": {
      "tags": []
     },
     "output_type": "execute_result"
    }
   ],
   "source": [
    "credit_df[credit_df.isnull().any(axis=1)]"
   ]
  },
  {
   "cell_type": "markdown",
   "metadata": {
    "id": "KvjSXNEMMNlU"
   },
   "source": [
    "### Encoding the categorical attributes in the dataset"
   ]
  },
  {
   "cell_type": "code",
   "execution_count": 50,
   "metadata": {
    "executionInfo": {
     "elapsed": 440,
     "status": "ok",
     "timestamp": 1625728637593,
     "user": {
      "displayName": "Subhajit Saha",
      "photoUrl": "",
      "userId": "13711027277416068614"
     },
     "user_tz": -330
    },
    "id": "qd0T_NmKMXn1"
   },
   "outputs": [],
   "source": [
    "cleanup_nums = {\"gender\":{\"Male\": 0, \"Female\": 1},\n",
    "                \"education\": {\"Graduate\": 0, \"Post Graduate\": 1, \"Under Graduate\": 2, \"Other\": 3},\n",
    "                \"occupation\": {\"Salaried\":0,\"Business\":1,\"Professional\":2,\"Student\":3},\n",
    "                \"organization_type\": {\"None\":0,\"Tier 3\":3,\"Tier 1\":1,\"Tier 2\":2},\n",
    "                \"seniority\":{\"None\":0,\"Mid-level 1\":1,\"Junior\":2,\"Entry\":3,\"Mid-level 2\":4,\"Senior\":5},\n",
    "                \"house_type\":{\"Rented\":0,\"Owned\":1,\"Family\":2,\"Company provided\":3},\n",
    "                \"vehicle_type\":{\"None\":0,\"Two Wheeler\":1,\"Four Wheeler\":2},\n",
    "                \"marital_status\":{\"Married\":0,\"Single\":1,\"Other\":2}}"
   ]
  },
  {
   "cell_type": "code",
   "execution_count": 51,
   "metadata": {
    "colab": {
     "base_uri": "https://localhost:8080/",
     "height": 226
    },
    "executionInfo": {
     "elapsed": 9,
     "status": "ok",
     "timestamp": 1625728640582,
     "user": {
      "displayName": "Subhajit Saha",
      "photoUrl": "",
      "userId": "13711027277416068614"
     },
     "user_tz": -330
    },
    "id": "_Fbl7_92O1FE",
    "outputId": "d2e5e33e-dabd-43bc-cd67-a6339ca22fd6"
   },
   "outputs": [
    {
     "data": {
      "text/html": [
       "<div>\n",
       "<style scoped>\n",
       "    .dataframe tbody tr th:only-of-type {\n",
       "        vertical-align: middle;\n",
       "    }\n",
       "\n",
       "    .dataframe tbody tr th {\n",
       "        vertical-align: top;\n",
       "    }\n",
       "\n",
       "    .dataframe thead th {\n",
       "        text-align: right;\n",
       "    }\n",
       "</style>\n",
       "<table border=\"1\" class=\"dataframe\">\n",
       "  <thead>\n",
       "    <tr style=\"text-align: right;\">\n",
       "      <th></th>\n",
       "      <th>age</th>\n",
       "      <th>gender</th>\n",
       "      <th>education</th>\n",
       "      <th>occupation</th>\n",
       "      <th>organization_type</th>\n",
       "      <th>seniority</th>\n",
       "      <th>annual_income</th>\n",
       "      <th>disposable_income</th>\n",
       "      <th>house_type</th>\n",
       "      <th>vehicle_type</th>\n",
       "      <th>marital_status</th>\n",
       "      <th>no_card</th>\n",
       "      <th>default</th>\n",
       "    </tr>\n",
       "  </thead>\n",
       "  <tbody>\n",
       "    <tr>\n",
       "      <th>0</th>\n",
       "      <td>19</td>\n",
       "      <td>0</td>\n",
       "      <td>0</td>\n",
       "      <td>2</td>\n",
       "      <td>0</td>\n",
       "      <td>0</td>\n",
       "      <td>186319</td>\n",
       "      <td>21625</td>\n",
       "      <td>2</td>\n",
       "      <td>0</td>\n",
       "      <td>0</td>\n",
       "      <td>0</td>\n",
       "      <td>1</td>\n",
       "    </tr>\n",
       "    <tr>\n",
       "      <th>1</th>\n",
       "      <td>18</td>\n",
       "      <td>0</td>\n",
       "      <td>2</td>\n",
       "      <td>2</td>\n",
       "      <td>0</td>\n",
       "      <td>0</td>\n",
       "      <td>277022</td>\n",
       "      <td>20442</td>\n",
       "      <td>0</td>\n",
       "      <td>0</td>\n",
       "      <td>0</td>\n",
       "      <td>0</td>\n",
       "      <td>1</td>\n",
       "    </tr>\n",
       "    <tr>\n",
       "      <th>2</th>\n",
       "      <td>29</td>\n",
       "      <td>0</td>\n",
       "      <td>2</td>\n",
       "      <td>0</td>\n",
       "      <td>0</td>\n",
       "      <td>3</td>\n",
       "      <td>348676</td>\n",
       "      <td>24404</td>\n",
       "      <td>0</td>\n",
       "      <td>0</td>\n",
       "      <td>0</td>\n",
       "      <td>1</td>\n",
       "      <td>1</td>\n",
       "    </tr>\n",
       "    <tr>\n",
       "      <th>3</th>\n",
       "      <td>18</td>\n",
       "      <td>0</td>\n",
       "      <td>0</td>\n",
       "      <td>3</td>\n",
       "      <td>0</td>\n",
       "      <td>0</td>\n",
       "      <td>165041</td>\n",
       "      <td>2533</td>\n",
       "      <td>0</td>\n",
       "      <td>0</td>\n",
       "      <td>0</td>\n",
       "      <td>0</td>\n",
       "      <td>1</td>\n",
       "    </tr>\n",
       "    <tr>\n",
       "      <th>4</th>\n",
       "      <td>26</td>\n",
       "      <td>0</td>\n",
       "      <td>1</td>\n",
       "      <td>0</td>\n",
       "      <td>0</td>\n",
       "      <td>1</td>\n",
       "      <td>348745</td>\n",
       "      <td>19321</td>\n",
       "      <td>0</td>\n",
       "      <td>0</td>\n",
       "      <td>0</td>\n",
       "      <td>1</td>\n",
       "      <td>1</td>\n",
       "    </tr>\n",
       "  </tbody>\n",
       "</table>\n",
       "</div>"
      ],
      "text/plain": [
       "   age  gender  education  ...  marital_status  no_card  default\n",
       "0   19       0          0  ...               0        0        1\n",
       "1   18       0          2  ...               0        0        1\n",
       "2   29       0          2  ...               0        1        1\n",
       "3   18       0          0  ...               0        0        1\n",
       "4   26       0          1  ...               0        1        1\n",
       "\n",
       "[5 rows x 13 columns]"
      ]
     },
     "execution_count": 51,
     "metadata": {
      "tags": []
     },
     "output_type": "execute_result"
    }
   ],
   "source": [
    "credit_df = credit_df.replace(cleanup_nums)\n",
    "credit_df.head()"
   ]
  },
  {
   "cell_type": "markdown",
   "metadata": {
    "id": "drx0AoBLP88s"
   },
   "source": [
    "### Extracting the values"
   ]
  },
  {
   "cell_type": "code",
   "execution_count": 68,
   "metadata": {
    "executionInfo": {
     "elapsed": 435,
     "status": "ok",
     "timestamp": 1625729836563,
     "user": {
      "displayName": "Subhajit Saha",
      "photoUrl": "",
      "userId": "13711027277416068614"
     },
     "user_tz": -330
    },
    "id": "U3IBNzz_QCEc"
   },
   "outputs": [],
   "source": [
    "arr = credit_df.values\n",
    "X = arr[:,0:12]\n",
    "Y = arr[:,12]"
   ]
  },
  {
   "cell_type": "code",
   "execution_count": 69,
   "metadata": {
    "executionInfo": {
     "elapsed": 650,
     "status": "ok",
     "timestamp": 1625729839167,
     "user": {
      "displayName": "Subhajit Saha",
      "photoUrl": "",
      "userId": "13711027277416068614"
     },
     "user_tz": -330
    },
    "id": "U84ywnAnQWlO"
   },
   "outputs": [],
   "source": [
    "from sklearn.model_selection import train_test_split\n",
    "X_train,X_test,y_train,y_test = train_test_split(X,Y,test_size=0.2,random_state=1234)"
   ]
  },
  {
   "cell_type": "code",
   "execution_count": 70,
   "metadata": {
    "executionInfo": {
     "elapsed": 5,
     "status": "ok",
     "timestamp": 1625729841692,
     "user": {
      "displayName": "Subhajit Saha",
      "photoUrl": "",
      "userId": "13711027277416068614"
     },
     "user_tz": -330
    },
    "id": "1aszCrHxQo-8"
   },
   "outputs": [],
   "source": [
    "from sklearn.tree import DecisionTreeClassifier\n",
    "model = DecisionTreeClassifier()"
   ]
  },
  {
   "cell_type": "code",
   "execution_count": 71,
   "metadata": {
    "colab": {
     "base_uri": "https://localhost:8080/"
    },
    "executionInfo": {
     "elapsed": 415,
     "status": "ok",
     "timestamp": 1625729844009,
     "user": {
      "displayName": "Subhajit Saha",
      "photoUrl": "",
      "userId": "13711027277416068614"
     },
     "user_tz": -330
    },
    "id": "BBzGL2A7Q0zr",
    "outputId": "d1dbf273-500c-468b-ba8e-7dc6529ca338"
   },
   "outputs": [
    {
     "data": {
      "text/plain": [
       "DecisionTreeClassifier(ccp_alpha=0.0, class_weight=None, criterion='gini',\n",
       "                       max_depth=None, max_features=None, max_leaf_nodes=None,\n",
       "                       min_impurity_decrease=0.0, min_impurity_split=None,\n",
       "                       min_samples_leaf=1, min_samples_split=2,\n",
       "                       min_weight_fraction_leaf=0.0, presort='deprecated',\n",
       "                       random_state=None, splitter='best')"
      ]
     },
     "execution_count": 71,
     "metadata": {
      "tags": []
     },
     "output_type": "execute_result"
    }
   ],
   "source": [
    "model.fit(X_train,y_train)"
   ]
  },
  {
   "cell_type": "code",
   "execution_count": 72,
   "metadata": {
    "colab": {
     "base_uri": "https://localhost:8080/"
    },
    "executionInfo": {
     "elapsed": 405,
     "status": "ok",
     "timestamp": 1625729846893,
     "user": {
      "displayName": "Subhajit Saha",
      "photoUrl": "",
      "userId": "13711027277416068614"
     },
     "user_tz": -330
    },
    "id": "LuXadeMOQ9jp",
    "outputId": "cc252d65-2e50-4c06-8b5b-53bfb40fa115"
   },
   "outputs": [
    {
     "name": "stdout",
     "output_type": "stream",
     "text": [
      "78.21\n"
     ]
    }
   ],
   "source": [
    "from sklearn.metrics import accuracy_score\n",
    "yHat = model.predict(X_test)\n",
    "print (round(accuracy_score(y_test, yHat)*100,2))"
   ]
  },
  {
   "cell_type": "code",
   "execution_count": 73,
   "metadata": {
    "executionInfo": {
     "elapsed": 675,
     "status": "ok",
     "timestamp": 1625729849468,
     "user": {
      "displayName": "Subhajit Saha",
      "photoUrl": "",
      "userId": "13711027277416068614"
     },
     "user_tz": -330
    },
    "id": "9bk-q1r7-QFY"
   },
   "outputs": [],
   "source": [
    "model1 = DecisionTreeClassifier(criterion=\"entropy\")"
   ]
  },
  {
   "cell_type": "code",
   "execution_count": 74,
   "metadata": {
    "colab": {
     "base_uri": "https://localhost:8080/"
    },
    "executionInfo": {
     "elapsed": 1375,
     "status": "ok",
     "timestamp": 1625729855012,
     "user": {
      "displayName": "Subhajit Saha",
      "photoUrl": "",
      "userId": "13711027277416068614"
     },
     "user_tz": -330
    },
    "id": "ADI93pIV-wBn",
    "outputId": "7e97ecae-3b15-422f-ea8f-9ae9900e884f"
   },
   "outputs": [
    {
     "data": {
      "text/plain": [
       "DecisionTreeClassifier(ccp_alpha=0.0, class_weight=None, criterion='entropy',\n",
       "                       max_depth=None, max_features=None, max_leaf_nodes=None,\n",
       "                       min_impurity_decrease=0.0, min_impurity_split=None,\n",
       "                       min_samples_leaf=1, min_samples_split=2,\n",
       "                       min_weight_fraction_leaf=0.0, presort='deprecated',\n",
       "                       random_state=None, splitter='best')"
      ]
     },
     "execution_count": 74,
     "metadata": {
      "tags": []
     },
     "output_type": "execute_result"
    }
   ],
   "source": [
    "model1.fit(X_train,y_train)"
   ]
  },
  {
   "cell_type": "code",
   "execution_count": 75,
   "metadata": {
    "colab": {
     "base_uri": "https://localhost:8080/"
    },
    "executionInfo": {
     "elapsed": 430,
     "status": "ok",
     "timestamp": 1625729858238,
     "user": {
      "displayName": "Subhajit Saha",
      "photoUrl": "",
      "userId": "13711027277416068614"
     },
     "user_tz": -330
    },
    "id": "-4LCjq2t-7uA",
    "outputId": "ebf557e2-6ab1-445a-81c9-5e4fda198932"
   },
   "outputs": [
    {
     "name": "stdout",
     "output_type": "stream",
     "text": [
      "78.48\n"
     ]
    }
   ],
   "source": [
    "from sklearn.metrics import accuracy_score\n",
    "yHat = model1.predict(X_test)\n",
    "print (round(accuracy_score(y_test, yHat)*100,2))"
   ]
  },
  {
   "cell_type": "code",
   "execution_count": 86,
   "metadata": {
    "colab": {
     "base_uri": "https://localhost:8080/"
    },
    "executionInfo": {
     "elapsed": 10048,
     "status": "ok",
     "timestamp": 1625730592155,
     "user": {
      "displayName": "Subhajit Saha",
      "photoUrl": "",
      "userId": "13711027277416068614"
     },
     "user_tz": -330
    },
    "id": "7HwQpUFy_Jd7",
    "outputId": "015468a7-7f4b-4458-8648-93912fba1e60"
   },
   "outputs": [
    {
     "name": "stdout",
     "output_type": "stream",
     "text": [
      "Decision Tree - gini\n",
      "accuracy:  0.7811042164150347\n",
      "precision:  0.326076863562796\n",
      "recall:  0.3579762101178186\n",
      "Decision Tree - entropy\n",
      "accuracy:  0.7844417293133376\n",
      "precision:  0.3303520791653081\n",
      "recall:  0.3510646624283711\n"
     ]
    }
   ],
   "source": [
    "from sklearn.model_selection import KFold\n",
    "kf = KFold(n_splits=10,shuffle=True)\n",
    "for crit in ['gini','entropy']:\n",
    "  print(\"Decision Tree - {}\".format(crit))\n",
    "  accuracy=[]\n",
    "  precision=[]\n",
    "  recall=[]\n",
    "  for train_index,test_index in kf.split(X):\n",
    "    X_train,X_test = X[train_index],X[test_index]\n",
    "    y_train,y_test = Y[train_index],Y[test_index]\n",
    "    dt = DecisionTreeClassifier(criterion=crit)\n",
    "    dt.fit(X_train,y_train)\n",
    "    y_pred = dt.predict(X_test)\n",
    "    accuracy.append(accuracy_score(y_test,y_pred))\n",
    "    precision.append(precision_score(y_test,y_pred))\n",
    "    recall.append(recall_score(y_test,y_pred))\n",
    "  print(\"accuracy: \",np.mean(accuracy))\n",
    "  print(\"precision: \",np.mean(precision))\n",
    "  print(\"recall: \",np.mean(recall))"
   ]
  }
 ],
 "metadata": {
  "colab": {
   "authorship_tag": "ABX9TyOzOwesV5FAcgFHvLf1qvz0",
   "collapsed_sections": [
    "2t-RmhbT92gJ",
    "ndJz3-Pd9_iR",
    "RGaWDnjVI5Xn",
    "XZg63wYTHwQE",
    "J5cjiCgwvdy_",
    "kDa1wuHLvpSy",
    "vcWZRbCa1Vw_",
    "FyBYG5QyLT3M",
    "KvjSXNEMMNlU"
   ],
   "name": "Credit_Risk_Analyzer.ipynb",
   "provenance": []
  },
  "kernelspec": {
   "display_name": "Python 3",
   "language": "python",
   "name": "python3"
  },
  "language_info": {
   "codemirror_mode": {
    "name": "ipython",
    "version": 3
   },
   "file_extension": ".py",
   "mimetype": "text/x-python",
   "name": "python",
   "nbconvert_exporter": "python",
   "pygments_lexer": "ipython3",
   "version": "3.9.5"
  }
 },
 "nbformat": 4,
 "nbformat_minor": 1
}
